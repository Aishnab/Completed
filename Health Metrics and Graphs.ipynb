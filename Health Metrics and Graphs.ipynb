{
  "nbformat": 4,
  "nbformat_minor": 0,
  "metadata": {
    "colab": {
      "provenance": []
    },
    "kernelspec": {
      "name": "python3",
      "display_name": "Python 3"
    },
    "language_info": {
      "name": "python"
    }
  },
  "cells": [
    {
      "cell_type": "markdown",
      "source": [
        "Name: Aishna Bajracharya<br>\n",
        "University ID: 2332958<br>\n",
        "Module: 4MM013\n"
      ],
      "metadata": {
        "id": "1ZYlY8SFyIU0"
      }
    },
    {
      "cell_type": "markdown",
      "source": [
        "Question 1\n",
        "(5 marks)\n",
        "\n",
        "The revised ‘Harris-Benedict’ method for calculating ‘Basal Metabolic Rate’ (BMR) is as follows:\n",
        "\n",
        "Men\tBMR = 88.362 + (13.397 x weight in kg) + (4.799 x height in cm) – (5.677 x age in years) \n",
        "Women\tBMR = 447.593 + (9.247 x weight in kg) + (3.098 x height in cm) – (4.330 x age in years)\n",
        "\n",
        "\n",
        "Based on an individual's level of weekly exercise, the recommended daily kilocalorie intake to maintain current weight can be calculated via; \n",
        "\n",
        "Exercise\n",
        "Category Code\t Individual’s level of exercise\t Calculation of daily intake required (kilocalories)\n",
        "0\t Little to no exercise\t BMR x 1.2\n",
        "1\t Light exercise (1–3 days per week)\t BMR x 1.375\n",
        "2\tModerate exercise (3–5 days per week)\t BMR x 1.55\n",
        "3\t Heavy exercise (6–7 days per week)\t  BMR x 1.725\n",
        "4\t Very heavy exercise (twice per day, extra heavy workouts)\t BMR x 1.9\n",
        "\n",
        "Using this information, create a Py program that will prompt for an individual's details, and their level of weekly exercise, then calculate the corresponding BMR and daily required KC intake and return this information to the user. \n",
        "\n",
        "\n"
      ],
      "metadata": {
        "id": "NLUdALCjxxx6"
      }
    },
    {
      "cell_type": "code",
      "source": [
        "#Aishna Bajracharya\n",
        "#2332958\n",
        "# creating a function to calculate BMR\n",
        "def calculate_bmr(gender,weight,height,age):\n",
        "  if gender.lower()==\"male\":\n",
        "    bmr=88.362+(13.397*weight)+(4.799* height)-(5.677*age)\n",
        "  elif gender.lower()==\"female\":\n",
        "    bmr= 446.593+(9.247*weight)+(3.098* height)-(4.330*age)\n",
        "  else:\n",
        "    return\"Invalid gender\"\n",
        "  return bmr\n",
        "\n",
        "#creating function to calculate daily required calories intake exercise\n",
        "def calculate_daily_intake_kc(bmr, exercise_category):\n",
        "    if exercise_category==0:\n",
        "      daily_intake_kc=bmr*1.2\n",
        "    elif exercise_category==1:\n",
        "      daily_intake_kc=bmr*1.375\n",
        "    elif exercise_category==2:\n",
        "      daily_intake_kc=bmr*1.55\n",
        "    elif exercise_category==3:\n",
        "      daily_intake_kc=bmr*1.725\n",
        "    elif exercise_category==4:\n",
        "      daily_intake_kc=bmr*1.9\n",
        "    else:\n",
        "      return \"Invalid exercise category\"\n",
        "    return daily_intake_kc\n",
        "\n",
        "#user input\n",
        "gender= input(\"Enter your gender(male or female):\")\n",
        "weight= float(input(\"Enter your weight in kg:\"))\n",
        "height= float(input(\"Enter your height in cm:\"))\n",
        "age = float(input(\"Enter your age:\"))\n",
        "exercise_category=int(input(\"Enter your exercise category code:\"))\n",
        "\n",
        "#calculate BMR\n",
        "bmr=calculate_bmr(gender,weight,height,age)\n",
        "print(\"Your BMR is:\",bmr)\n",
        "\n",
        "#calculate daily required kilo calories intake\n",
        "daily_intake_kc= calculate_daily_intake_kc(bmr,exercise_category)\n",
        "print(\"Your daily required kilocalorie intake is:\",daily_intake_kc)\n"
      ],
      "metadata": {
        "colab": {
          "base_uri": "https://localhost:8080/"
        },
        "id": "uw7DpioiyiBC",
        "outputId": "0184701c-5c7d-412f-c62a-0c7c96848546"
      },
      "execution_count": 18,
      "outputs": [
        {
          "output_type": "stream",
          "name": "stdout",
          "text": [
            "Enter your gender(male or female):female\n",
            "Enter your weight in kg:44\n",
            "Enter your height in cm:156.94\n",
            "Enter your age:19\n",
            "Enter your exercise category code:1684\n",
            "Your BMR is: 1257.39112\n",
            "Your daily required kilocalorie intake is: Invalid exercise category\n"
          ]
        }
      ]
    },
    {
      "cell_type": "markdown",
      "source": [
        "Question 2\n",
        "(5 marks)\n",
        "\n",
        "Create a program that utilises a recursive function to calculate the sum of integer values between two given integers inclusive, i.e. 5, and 7 as inputs should return 18 (5+6+7). The program should ask the user for the low and high numbers to act as the initial and last values in this calculation, then find and return the sum. Your program will need to provide feedback if this is not possible due to; the input values not being integers, or the ‘low’ value being higher than the ‘high’ value.\n",
        "\n",
        "Demonstrate this program works with:\n",
        "1.\tThe calculation of the sum of values between the first number of your student number and the last two digits of your student number when read as one number. (i.e. with a student number of 543820, the values will be ‘5’ and ‘20’.)\n",
        "2.\tThe calculation of a low value of “-12” and a high value of your height in feet (rounding up).\n",
        "3.\tSuitable feedback for invalid input.\n"
      ],
      "metadata": {
        "id": "cPKX3dTN73cj"
      }
    },
    {
      "cell_type": "code",
      "source": [
        "#Aishna Bajracharya\n",
        "#2332958\n",
        "#creating function \n",
        "def recursive_sum(low,high):\n",
        "  if low > high:\n",
        "    return 0\n",
        "  else:\n",
        "    return low + recursive_sum(low + 1,high)\n",
        "  \n",
        "try:\n",
        "  low=int(input(\"Enter the lower number:\"))\n",
        "  high=int(input(\"Enter the higher number:\"))\n",
        "\n",
        "  if low>high:\n",
        "    print(\"Error: lower number is greater than the higher number.\")\n",
        "  else:\n",
        "    print(\"the sum of values between\",low,\"and\",high,\"is\",recursive_sum(low,high))\n",
        "\n",
        "except ValueError:\n",
        "  print(\"Error: Please enter valid number/integers for the low and high numbers\")\n",
        "\n",
        "#the below output is the sum of values between the first number of your student number and the last two digits of your student number when read.\n",
        "\n"
      ],
      "metadata": {
        "id": "GJPGLRVF7_bn",
        "colab": {
          "base_uri": "https://localhost:8080/"
        },
        "outputId": "ea48f250-70db-4984-cd44-3ab817e6eb4d"
      },
      "execution_count": 20,
      "outputs": [
        {
          "output_type": "stream",
          "name": "stdout",
          "text": [
            "Enter the lower number:5\n",
            "Enter the higher number:20\n",
            "the sum of values between 5 and 20 is 200\n"
          ]
        }
      ]
    },
    {
      "cell_type": "code",
      "source": [
        "#Aishna Bajracharya\n",
        "#2332958\n",
        "#creating function\n",
        "def recursive_sum(low,high):\n",
        "  if low> high:\n",
        "    return 0\n",
        "  else:\n",
        "    return low + recursive_sum(low+1,high)\n",
        "\n",
        "try:\n",
        "  low=int(input(\"enter the lower number:\"))\n",
        "  high=int(input(\"enter the higher number:\"))\n",
        "\n",
        "  if low>high:\n",
        "    print(\"Error:lower number is greater than the higher number.\")\n",
        "\n",
        "  else:\n",
        "    print(\"the sum of values between\",low,\"and\",high,\"is\",recursive_sum(low,high))\n",
        "except ValueError:\n",
        "  print(\"Error: please enter valid number/integers for the high and low numbers\")\n",
        "\n",
        "#the below output is the calculation of a low value of \"-12\" and a high value of your height in feet(rounding up)."
      ],
      "metadata": {
        "colab": {
          "base_uri": "https://localhost:8080/"
        },
        "id": "umXZHes6CoJS",
        "outputId": "bb5a026e-90da-4cc4-93ee-c1fb848c09a3"
      },
      "execution_count": 21,
      "outputs": [
        {
          "output_type": "stream",
          "name": "stdout",
          "text": [
            "enter the lower number:-12\n",
            "enter the higher number:5\n",
            "the sum of values between -12 and 5 is -63\n"
          ]
        }
      ]
    },
    {
      "cell_type": "code",
      "source": [
        "#Aishna Bajracharya\n",
        "#2332958\n",
        "#creating function\n",
        "def recursive_sum(low,high):\n",
        "  if low> high:\n",
        "    return 0\n",
        "  else:\n",
        "    return low + recursive_sum(low+1,high)\n",
        "\n",
        "try:\n",
        "  low=int(input(\"enter the lower number:\"))\n",
        "  high=int(input(\"enter the higher number:\"))\n",
        "\n",
        "  if low>high:\n",
        "    print(\"Error:lower number is greater than the higher number.\")\n",
        "\n",
        "  else:\n",
        "    print(\"the sum of values between\",low,\"and\",high,\"is\",recursive_sum(low,high))\n",
        "except ValueError:\n",
        "  print(\"Error: please enter valid number/integers for the high and low numbers\")\n",
        "\n",
        "#the below output is suitable feedback for invalid output."
      ],
      "metadata": {
        "colab": {
          "base_uri": "https://localhost:8080/"
        },
        "id": "RlqynX4BGB4d",
        "outputId": "30b9ce56-6f82-489e-9a6c-844c74e26eaa"
      },
      "execution_count": 22,
      "outputs": [
        {
          "output_type": "stream",
          "name": "stdout",
          "text": [
            "enter the lower number:feedback\n",
            "Error: please enter valid number/integers for the high and low numbers\n"
          ]
        }
      ]
    },
    {
      "cell_type": "markdown",
      "source": [
        "Question 3\n",
        "(5 marks)\n",
        "\n",
        "Create a Py Program that will create a graph of y = f(x) where; \n",
        "\n",
        "f(x) = 3x2  \n",
        "\n",
        "And where\n",
        "\n",
        "f(x) = 4x - 3\n",
        "\n",
        "Your graph will need to plot the values of y for the values of x between -5 and +15 for both lines.\n",
        "\n",
        "To completely address this question you will need to; \n",
        "●\tCorrectly label the created graph with a title and labelled axes.<br>\n",
        "●\tUse a function to calculate the values of y for a given x value for both lines.<br>\n",
        "●\tUse plot markers for the graphs plotted points for both lines. <br>\n",
        "●\tInclude a ‘grid’ on the graph.<br>\n",
        "●\tPresent as evidence your code and the created graph with both lines visible.\n"
      ],
      "metadata": {
        "id": "u2QgkFWVGfnA"
      }
    },
    {
      "cell_type": "code",
      "source": [
        "import matplotlib.pyplot as plt\n",
        "import numpy as np"
      ],
      "metadata": {
        "id": "awVaxBplG0l5"
      },
      "execution_count": 24,
      "outputs": []
    },
    {
      "cell_type": "code",
      "source": [
        "#Aishna Bajracharya\n",
        "#2332958\n",
        "#creating funcion to calculate y values for given function \n",
        "def f1(x):\n",
        "  return 3*x**2\n",
        "\n",
        "def f2(x):\n",
        "  return 4*x-3\n",
        "\n",
        "#given range of x values\n",
        "x_value= np.arange(-5,15)\n",
        "\n",
        "#calculating y values\n",
        "y_value1=f1(x_value)\n",
        "y_value2=f2(x_value)\n",
        "\n",
        "#plot the graph\n",
        "plt.plot(x_value,y_value1,marker='*',label='f(x)=3x^2')\n",
        "plt.plot(x_value,y_value2,marker='o',label='f(x)=4x-3')\n",
        "\n",
        "#title and axis lables\n",
        "plt.title('Graph of y = f(x)')\n",
        "plt.xlabel('x values')\n",
        "plt.ylabel('y values')\n",
        "\n",
        "#grid\n",
        "plt.grid()\n",
        "\n",
        "#legend\n",
        "plt.legend()\n",
        "\n",
        "plt.show( )\n"
      ],
      "metadata": {
        "colab": {
          "base_uri": "https://localhost:8080/",
          "height": 472
        },
        "id": "K6LtuHg8KbI4",
        "outputId": "92d55eb9-a12c-4eb3-d65d-8b0c56b3a193"
      },
      "execution_count": 25,
      "outputs": [
        {
          "output_type": "display_data",
          "data": {
            "text/plain": [
              "<Figure size 640x480 with 1 Axes>"
            ],
            "image/png": "[encoded data removed]"
          },
          "metadata": {}
        }
      ]
    }
  ]
}